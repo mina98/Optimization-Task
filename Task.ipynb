{
  "cells": [
    {
      "cell_type": "markdown",
      "metadata": {
        "id": "E01KDUivvkSV"
      },
      "source": [
        "## Calcluate the dot product between vectore using loop and list, the complixty is high, O(n^2d)"
      ]
    },
    {
      "cell_type": "code",
      "execution_count": 25,
      "metadata": {
        "colab": {
          "base_uri": "https://localhost:8080/"
        },
        "id": "xX9ixw2NsOwq",
        "outputId": "0e1f8257-c1ea-47ab-d90c-6e14cae31942"
      },
      "outputs": [
        {
          "data": {
            "text/plain": [
              "[[4.41, 6.93], [6.93, 10.889999999999999]]"
            ]
          },
          "execution_count": 25,
          "metadata": {},
          "output_type": "execute_result"
        }
      ],
      "source": [
        "def compute_dot_product(matrix):\n",
        "  n=len(matrix) #how many vector\n",
        "  dotProductMatrix = [[0 for _ in range(n)] for _ in range(n)] # Create dot product matrix to save the result inside it\n",
        "  for i in range(n):\n",
        "    for j in range(i,n): # loop from i to n to handle the redudent on the matrix\n",
        "      dotProduct=0\n",
        "      for k in range(n):\n",
        "        dotProduct=matrix[i][k]*matrix[j][k]\n",
        "      #Save it diagonally\n",
        "      dotProductMatrix[i][j]=dotProduct \n",
        "      dotProductMatrix[j][i]=dotProduct\n",
        "  return dotProductMatrix\n",
        "\n",
        "matrix=[[1.2,2.1,3.5],[2.1,3.3,4.5]]\n",
        "compute_dot_product(matrix)"
      ]
    },
    {
      "cell_type": "code",
      "execution_count": 26,
      "metadata": {
        "colab": {
          "base_uri": "https://localhost:8080/"
        },
        "id": "Iox4i4W8wjsn",
        "outputId": "bf0a9d5f-9800-48f9-a7a7-bb7f788ba402"
      },
      "outputs": [
        {
          "data": {
            "text/plain": [
              "[[0.9000000000000001, 0.9000000000000001, 1.4],\n",
              " [1.1999999999999997, 1.1999999999999997, 1.2000000000000002]]"
            ]
          },
          "execution_count": 26,
          "metadata": {},
          "output_type": "execute_result"
        }
      ],
      "source": [
        "def find_nearest_differences(matrix):\n",
        "    n = len(matrix)  # Number of rows\n",
        "    nearest = [[0 for _ in range(len(matrix[0]))] for _ in range(n)]  # Initialize the result matrix\n",
        "    for i in range(n): #loop on matrix\n",
        "        m = len(matrix[i])\n",
        "        for j in range(m):\n",
        "            minDiff = float('inf')  # Initialize minimum difference to infinity\n",
        "            for k in range(m):\n",
        "                if j != k:\n",
        "                    diff = abs(matrix[i][j] - matrix[i][k]) # get the difference between the number and the vector\n",
        "                    minDiff = min(minDiff, diff)\n",
        "            nearest[i][j] = minDiff\n",
        "\n",
        "    return nearest\n",
        "\n",
        "matrix=[[1.2,2.1,3.5],[2.1,3.3,4.5]]\n",
        "find_nearest_differences(matrix)\n"
      ]
    },
    {
      "cell_type": "markdown",
      "metadata": {
        "id": "dQe3RInp4rHy"
      },
      "source": [
        "## Make enhancment on the code using numpy and minimize the using of the list"
      ]
    },
    {
      "cell_type": "code",
      "execution_count": 27,
      "metadata": {
        "id": "4Art8CEQ4YET"
      },
      "outputs": [],
      "source": [
        "import numpy as np\n",
        "def compute_dot_product_numpy(matrix):\n",
        "    matrixNumpy = np.array(matrix)\n",
        "    dot_product_matrix = np.dot(matrixNumpy, matrixNumpy.T) #make dot product using numpy dot\n",
        "    return dot_product_matrix"
      ]
    },
    {
      "cell_type": "code",
      "execution_count": 28,
      "metadata": {
        "id": "2HRXT8Yn5MbC"
      },
      "outputs": [],
      "source": [
        "def find_nearest_differences_numpy(matrix):\n",
        "    matrixNumpy = np.array(matrix)\n",
        "    r, c = matrixNumpy.shape\n",
        "    nearest = np.zeros((r, c)) # initilize matrix zeros for saving the values of the difference\n",
        "\n",
        "    for i in range(r):\n",
        "        rowRepeated = matrixNumpy[i, :].reshape(c, 1)\n",
        "        differences = np.abs(rowRepeated - matrixNumpy[i, :]) #calculate the difference\n",
        "        np.fill_diagonal(differences, np.inf) # fill digonal to infinity to correct the min calculation\n",
        "        nearest[i, :] = np.min(differences, axis=1)   # Find the minimum difference for each element\n",
        "    return nearest"
      ]
    },
    {
      "cell_type": "code",
      "execution_count": 29,
      "metadata": {
        "colab": {
          "base_uri": "https://localhost:8080/"
        },
        "id": "t1We0eNK5o6B",
        "outputId": "22c85629-d5d5-4eca-c333-06341d2b92f8"
      },
      "outputs": [
        {
          "data": {
            "text/plain": [
              "array([[0.9, 0.9, 1.4],\n",
              "       [1.2, 1.2, 1.2]])"
            ]
          },
          "execution_count": 29,
          "metadata": {},
          "output_type": "execute_result"
        }
      ],
      "source": [
        "matrix=[[1.2,2.1,3.5],[2.1,3.3,4.5]]\n",
        "find_nearest_differences(matrix)\n",
        "find_nearest_differences_numpy(matrix)"
      ]
    },
    {
      "cell_type": "markdown",
      "metadata": {
        "id": "vvVHqh-w6RuZ"
      },
      "source": [
        "## make the partial dot product using parallel processing"
      ]
    },
    {
      "cell_type": "code",
      "execution_count": 48,
      "metadata": {
        "id": "Jg9RQBnP798a"
      },
      "outputs": [],
      "source": [
        "def compute_partial_dot_product_chunck(matrixChunk, matrix):\n",
        "    return np.dot(matrixChunk, matrix.T)\n",
        "\n",
        "def compute_dot_product_parallel(matrix, num_processes=4):\n",
        "    matrixNumpy = np.array(matrix)\n",
        "    # split chunks for processing\n",
        "    rowChunks = np.array_split(matrixNumpy, num_processes)\n",
        "\n",
        "    with Pool(num_processes) as pool:\n",
        "        # Compute dot product for each chunk\n",
        "        results = pool.starmap(compute_partial_dot_product_chunck, [(chunk, matrixNumpy) for chunk in rowChunks])\n",
        "\n",
        "    return np.vstack(results)"
      ]
    },
    {
      "cell_type": "code",
      "execution_count": 49,
      "metadata": {
        "id": "hb0wR5xO8NCJ"
      },
      "outputs": [],
      "source": [
        "def compute_nearest_differences_subset(args):\n",
        "    matrixNumpy, rows = args\n",
        "    r, c = matrixNumpy.shape\n",
        "    nearest = np.zeros((len(rows), c)) # initilize matrix zeros for saving the values of the difference\n",
        "\n",
        "\n",
        "    for idx, i in enumerate(rows):\n",
        "        rowRepeated = matrixNumpy[i, :].reshape(c, 1)\n",
        "        differences = np.abs(rowRepeated - matrixNumpy[i, :])\n",
        "        np.fill_diagonal(differences, np.inf) # fill diagonal to infinity\n",
        "        nearest[idx, :] = np.min(differences, axis=1) # Find minimum difference for each element\n",
        "\n",
        "    return nearest\n",
        "\n",
        "def find_nearest_differences_parallel(matrix, num_processes=4):\n",
        "    matrixNumpy = np.array(matrix)\n",
        "    r, c = matrixNumpy.shape\n",
        "\n",
        "    # Ensure that the matrix is two-dimensional\n",
        "    if len(matrixNumpy.shape) != 2:\n",
        "        raise ValueError(\"Matrix must be two-dimensional\")\n",
        "\n",
        "    rows_per_process = np.array_split(range(r), num_processes)\n",
        "\n",
        "    with Pool(num_processes) as pool:\n",
        "        results = pool.map(compute_nearest_differences_subset, [(matrixNumpy, rows) for rows in rows_per_process])\n",
        "\n",
        "    nearest = np.vstack(results) # return it in vstack\n",
        "\n",
        "    return nearest"
      ]
    },
    {
      "cell_type": "code",
      "execution_count": 50,
      "metadata": {
        "id": "iK9zyGpZ_cWL"
      },
      "outputs": [],
      "source": [
        "matrix= np.random.rand(200, 200) * 5 #create the matrix 200 * 200 to check the different of using the above functions"
      ]
    },
    {
      "cell_type": "code",
      "execution_count": 51,
      "metadata": {},
      "outputs": [
        {
          "data": {
            "text/plain": [
              "(200, 200)"
            ]
          },
          "execution_count": 51,
          "metadata": {},
          "output_type": "execute_result"
        }
      ],
      "source": [
        "matrix.shape\n"
      ]
    },
    {
      "cell_type": "code",
      "execution_count": 52,
      "metadata": {
        "colab": {
          "base_uri": "https://localhost:8080/"
        },
        "id": "SLdTDuUu82qt",
        "outputId": "f63c539a-b3a3-48b4-e2da-013be6b471b2"
      },
      "outputs": [
        {
          "data": {
            "text/plain": [
              "(2.1329360008239746, 0.001352071762084961, 0.0688941478729248)"
            ]
          },
          "execution_count": 52,
          "metadata": {},
          "output_type": "execute_result"
        }
      ],
      "source": [
        "import time\n",
        "startTimeDot = time.time()\n",
        "compute_dot_product(matrix)\n",
        "endTimeDot = time.time()-startTimeDot\n",
        "\n",
        "startTimeNumpy = time.time()\n",
        "compute_dot_product_numpy(matrix)\n",
        "endTimeDotNumpy = time.time()-startTimeNumpy\n",
        "\n",
        "startTimeParallel = time.time()\n",
        "compute_dot_product_parallel(matrix)\n",
        "endTimeDotParallel = time.time()-startTimeParallel\n",
        "\n",
        "endTimeDot,endTimeDotNumpy,endTimeDotParallel"
      ]
    },
    {
      "cell_type": "code",
      "execution_count": 54,
      "metadata": {},
      "outputs": [
        {
          "data": {
            "text/plain": [
              "(5.857277154922485, 0.021490097045898438, 0.040221452713012695)"
            ]
          },
          "execution_count": 54,
          "metadata": {},
          "output_type": "execute_result"
        }
      ],
      "source": [
        "import time\n",
        "startTimeDot = time.time()\n",
        "find_nearest_differences(matrix)\n",
        "endTimeFind = time.time()-startTimeDot\n",
        "\n",
        "startTimeNumpy = time.time()\n",
        "find_nearest_differences_numpy(matrix)\n",
        "endTimeFindNumpy = time.time()-startTimeNumpy\n",
        "\n",
        "startTimeParallel = time.time()\n",
        "find_nearest_differences_parallel(matrix)\n",
        "endTimeFindParallel = time.time()-startTimeParallel\n",
        "\n",
        "endTimeFind,endTimeFindNumpy,endTimeFindParallel"
      ]
    },
    {
      "cell_type": "markdown",
      "metadata": {},
      "source": [
        "The function to compute the dot product between each pair of vectors is related to UN-AVOIDS/NCDF as its comparing the similarity or dissimilarity between vectors\n",
        "For the second point as it involves comparing values within a matrix (Dataset), The function to find the nearest value differences within each row of the array can be useful in identifying outliers or anomalies within the dataset. "
      ]
    },
    {
      "cell_type": "markdown",
      "metadata": {},
      "source": [
        "Thanks"
      ]
    }
  ],
  "metadata": {
    "colab": {
      "provenance": []
    },
    "kernelspec": {
      "display_name": "Python 3",
      "name": "python3"
    },
    "language_info": {
      "codemirror_mode": {
        "name": "ipython",
        "version": 3
      },
      "file_extension": ".py",
      "mimetype": "text/x-python",
      "name": "python",
      "nbconvert_exporter": "python",
      "pygments_lexer": "ipython3",
      "version": "3.8.10"
    }
  },
  "nbformat": 4,
  "nbformat_minor": 0
}
